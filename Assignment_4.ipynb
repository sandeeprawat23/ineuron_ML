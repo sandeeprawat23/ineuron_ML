{
 "cells": [
  {
   "cell_type": "code",
   "execution_count": 1,
   "metadata": {},
   "outputs": [
    {
     "name": "stdout",
     "output_type": "stream",
     "text": [
      "18\n",
      "171.70905625505023\n"
     ]
    }
   ],
   "source": [
    "#  1.1 Write a Python Program(with class concepts) to find the area of the triangle using the below\n",
    "# formula.\n",
    "# area = (s*(s-a)*(s-b)*(s-c)) ** 0.5\n",
    "# Function to take the length of the sides of triangle from user should be defined in the parent\n",
    "# class and function to calculate the area should be defined in subclass.\n",
    "\n",
    "class triangle:\n",
    "    def __init__(self, a,b,c):\n",
    "        self.a =a\n",
    "        self.b =b\n",
    "        self.c =c\n",
    "\n",
    "class area(triangle):\n",
    "    \n",
    "    def __init__(self, *args):\n",
    "        super(area, self).__init__(*args)\n",
    "    def totalarea(self):\n",
    "        s = (self.a+self.b+self.c)\n",
    "        print(s)\n",
    "        area = (s*(s-self.a)*(s-self.b)*(s-self.c))**0.5\n",
    "        print(area)\n",
    "\n",
    "\n",
    "test = area(4, 5, 9)\n",
    "test.totalarea()    \n"
   ]
  },
  {
   "cell_type": "code",
   "execution_count": 5,
   "metadata": {},
   "outputs": [
    {
     "name": "stdout",
     "output_type": "stream",
     "text": [
      "please enter the list of words Jai Shree Ram\n",
      " enter the length to be checked for 3\n",
      "this is the final list after length check  ['Shree']\n"
     ]
    }
   ],
   "source": [
    "#  1.2 Write a function filter_long_words() that takes a list of words and an integer n and returns\n",
    "# the list of words that are longer than n.\n",
    "\n",
    "def filter_long_words():\n",
    "    ls = input(\"please enter the list of words\").split()\n",
    "    length = int(input(\" enter the length to be checked for \"))\n",
    "    final_list = []\n",
    "    for i in ls:\n",
    "        \n",
    "        if len(i)>length:\n",
    "            final_list.append(i)\n",
    "    print(\"this is the final list after length check \", final_list)\n",
    "    \n",
    "filter_long_words()"
   ]
  },
  {
   "cell_type": "code",
   "execution_count": 7,
   "metadata": {},
   "outputs": [
    {
     "name": "stdout",
     "output_type": "stream",
     "text": [
      "Please enter list of words Let's check this function working\n"
     ]
    },
    {
     "data": {
      "text/plain": [
       "[5, 5, 4, 8, 7]"
      ]
     },
     "execution_count": 7,
     "metadata": {},
     "output_type": "execute_result"
    }
   ],
   "source": [
    "# 2.1 Write a Python program using function concept that maps list of words into a list of integers\n",
    "# representing the lengths of the corresponding words.\n",
    "# Hint: If a list [ ab,cde,erty] is passed on to the python function output should come as [2,3,4]\n",
    "# Here 2,3 and 4 are the lengths of the words in the list.\n",
    "\n",
    "def int_map_func():   \n",
    "    ls = input(\"Please enter list of words \").split()\n",
    "    a = map(lambda x :len(x), ls)\n",
    "    final_ls =[]\n",
    "    for i in a:\n",
    "        final_ls.append(i)\n",
    "    return final_ls\n",
    "    \n",
    "\n",
    "\n",
    "int_map_func()    \n"
   ]
  },
  {
   "cell_type": "code",
   "execution_count": 8,
   "metadata": {},
   "outputs": [
    {
     "name": "stdout",
     "output_type": "stream",
     "text": [
      "Please enter char to b checkeda e b d e p i\n",
      "a\n",
      "e\n",
      "e\n",
      "i\n"
     ]
    }
   ],
   "source": [
    "# 2.2 Write a Python function which takes a character (i.e. a string of length 1) and returns True if\n",
    "# it is a vowel, False otherwise.\n",
    "\n",
    "def vowel_check_func():   \n",
    "    ls = input(\"Please enter char to b checked\").split()    \n",
    "    vowel_list =['a', 'e', 'i', 'o', 'u']\n",
    "    a =filter(lambda x : x in vowel_list , ls)\n",
    "    for i in a:\n",
    "        print(i)\n",
    "    \n",
    "\n",
    "\n",
    "vowel_check_func()  "
   ]
  },
  {
   "cell_type": "code",
   "execution_count": null,
   "metadata": {},
   "outputs": [],
   "source": []
  }
 ],
 "metadata": {
  "kernelspec": {
   "display_name": "Python 3",
   "language": "python",
   "name": "python3"
  },
  "language_info": {
   "codemirror_mode": {
    "name": "ipython",
    "version": 3
   },
   "file_extension": ".py",
   "mimetype": "text/x-python",
   "name": "python",
   "nbconvert_exporter": "python",
   "pygments_lexer": "ipython3",
   "version": "3.7.1"
  }
 },
 "nbformat": 4,
 "nbformat_minor": 2
}
